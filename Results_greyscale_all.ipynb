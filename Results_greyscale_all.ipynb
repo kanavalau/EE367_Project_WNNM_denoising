{
 "cells": [
  {
   "cell_type": "code",
   "execution_count": 1,
   "id": "7acd4cb2-c4a0-449f-9c61-191300097246",
   "metadata": {},
   "outputs": [],
   "source": [
    "# This notebook applies the different denoising techniques to a set of 15 grayscale images to evaluate average performance\n",
    "import numpy as np\n",
    "import matplotlib.pyplot as plt\n",
    "import skimage.io as io\n",
    "from skimage.filters import gaussian\n",
    "from scipy.ndimage import median_filter\n",
    "from skimage.metrics import peak_signal_noise_ratio as compute_psnr\n",
    "from skimage.metrics import structural_similarity as compute_ssim\n",
    "\n",
    "from filters_hw2 import *\n",
    "from wnnm_final import *\n",
    "\n",
    "import pandas as pd\n",
    "# Initialize data frames to store computed psnr and ssim values\n",
    "psnr_data = pd.DataFrame()\n",
    "ssim_data = pd.DataFrame()"
   ]
  },
  {
   "cell_type": "code",
   "execution_count": 2,
   "id": "61ff3e00-568d-440b-b04f-730e0522dcc3",
   "metadata": {},
   "outputs": [
    {
     "name": "stdout",
     "output_type": "stream",
     "text": [
      "Average PSNR of noisy images = 20.22248462055455\n",
      "Average SSIM of noisy images = 0.48826909867503676\n"
     ]
    }
   ],
   "source": [
    "# Specify image names, number of images, and initialize lists to store the output\n",
    "img_names = ['2','7','12','13','15','16','20','22',\n",
    "             '23','25','27','28','38','47','48']\n",
    "psnr_data['Image names'] = pd.DataFrame(img_names)\n",
    "N_img = len(img_names)\n",
    "clean_images = []\n",
    "noisy_images = []\n",
    "noisy_psnr = []\n",
    "noisy_ssim = []\n",
    "# Specify the noise to be added\n",
    "sigma_noise = 0.1\n",
    "\n",
    "# Load the images, compute psnr of the noisy images, and save the actual images being denoised\n",
    "for i in range(N_img):\n",
    "    clean_images.append(io.imread('test_images_greyscale/'+img_names[i]+'.gif').astype(float)/255)\n",
    "    noisy_images.append(np.clip(clean_images[-1] + np.random.normal(loc=0.0, scale=sigma_noise, size=clean_images[-1].shape),0,1))\n",
    "    psnr = compute_psnr(clean_images[-1],noisy_images[-1])\n",
    "    noisy_psnr.append(psnr)\n",
    "    ssim = compute_ssim(clean_images[-1],noisy_images[-1])\n",
    "    noisy_ssim.append(ssim)\n",
    "    \n",
    "    io.imsave('results_greyscale/clean/'+img_names[i]+'.png', (clean_images[-1]*255).astype(np.uint8))\n",
    "    io.imsave('results_greyscale/noisy/'+img_names[i]+'.png', (noisy_images[-1]*255).astype(np.uint8))\n",
    "\n",
    "# Print and record the metrics\n",
    "print('Average PSNR of noisy images = '+str(np.mean(noisy_psnr)))\n",
    "psnr_data['noisy'] = noisy_psnr\n",
    "print('Average SSIM of noisy images = '+str(np.mean(noisy_ssim)))\n",
    "ssim_data['noisy'] = noisy_ssim"
   ]
  },
  {
   "cell_type": "code",
   "execution_count": 3,
   "id": "3372cb43-8a3b-4869-9847-39d920f29af0",
   "metadata": {},
   "outputs": [
    {
     "name": "stdout",
     "output_type": "stream",
     "text": [
      "Average PSNR gaussian = 26.35892405682172\n",
      "Average SSIM gaussian = 0.7979498239343151\n"
     ]
    }
   ],
   "source": [
    "# Perform gaussian filtering\n",
    "gaus_imgs = []\n",
    "gaus_psnrs = []\n",
    "gaus_ssims = []\n",
    "\n",
    "sigma = 0.9\n",
    "for i in range(N_img):\n",
    "    filtered = gaussian(noisy_images[i],sigma)\n",
    "    psnr = compute_psnr(clean_images[i],filtered)\n",
    "    ssim = compute_ssim(clean_images[i],filtered)\n",
    "    \n",
    "    gaus_imgs.append(filtered)\n",
    "    gaus_psnrs.append(psnr)\n",
    "    gaus_ssims.append(ssim)\n",
    "    io.imsave('results_greyscale/gaussian/'+img_names[i]+'.png', (gaus_imgs[-1]*255).astype(np.uint8))\n",
    "    \n",
    "print('Average PSNR gaussian = '+str(np.mean(gaus_psnrs)))\n",
    "psnr_data['gaussian'] = gaus_psnrs\n",
    "print('Average SSIM gaussian = '+str(np.mean(gaus_ssims)))\n",
    "ssim_data['gaussian'] = gaus_ssims"
   ]
  },
  {
   "cell_type": "code",
   "execution_count": 5,
   "id": "1148795a-c39d-46b7-97bc-891c11c2d0aa",
   "metadata": {},
   "outputs": [
    {
     "name": "stdout",
     "output_type": "stream",
     "text": [
      "Average PSNR bilateral = 26.606014372622116\n",
      "Average SSIM bilateral = 0.7984888042919404\n"
     ]
    }
   ],
   "source": [
    "# Perform bilateral filtering\n",
    "bilateral_imgs = []\n",
    "bilateral_psnrs = []\n",
    "bilateral_ssims = []\n",
    "\n",
    "sigmaIntensity = 0.4\n",
    "for i in range(N_img):\n",
    "    filtered = bilateral2d(noisy_images[i],radius=filtSize,\n",
    "                                        sigma=sigma,sigmaIntensity=sigmaIntensity)\n",
    "    psnr = compute_psnr(clean_images[i],filtered)\n",
    "    ssim = compute_ssim(clean_images[i],filtered)\n",
    "    \n",
    "    bilateral_imgs.append(filtered)\n",
    "    bilateral_psnrs.append(psnr)\n",
    "    bilateral_ssims.append(ssim)\n",
    "    io.imsave('results_greyscale/bilateral/'+img_names[i]+'.png', (bilateral_imgs[-1]*255).astype(np.uint8))\n",
    "    \n",
    "print('Average PSNR bilateral = '+str(np.mean(bilateral_psnrs)))\n",
    "psnr_data['bilateral'] = bilateral_psnrs\n",
    "print('Average SSIM bilateral = '+str(np.mean(bilateral_ssims)))\n",
    "ssim_data['bilateral'] = bilateral_ssims"
   ]
  },
  {
   "cell_type": "code",
   "execution_count": 6,
   "id": "3727cfd0-29ad-46ce-99c7-a1276cfe4d24",
   "metadata": {},
   "outputs": [
    {
     "name": "stdout",
     "output_type": "stream",
     "text": [
      "Average PSNR non local means = 26.972477045248898\n",
      "Average SSIM non local means = 0.8227874707085767\n"
     ]
    }
   ],
   "source": [
    "# Perform nlm filtering\n",
    "nlm_imgs = []\n",
    "nlm_psnrs = []\n",
    "nlm_ssims = []\n",
    "\n",
    "nlmSigma = 0.1\n",
    "averageFilterRadius = 3\n",
    "searchWindowRadius = 9\n",
    "for i in range(N_img):\n",
    "    filtered = nonlocalmeans(noisy_images[i].reshape((noisy_images[i].shape[0],noisy_images[i].shape[1],1)),searchWindowRadius,\n",
    "                             averageFilterRadius,sigma,nlmSigma).reshape((noisy_images[i].shape[0],noisy_images[i].shape[1]))\n",
    "    psnr = compute_psnr(clean_images[i],filtered)\n",
    "    ssim = compute_ssim(clean_images[i],filtered)\n",
    "    \n",
    "    nlm_imgs.append(filtered)\n",
    "    nlm_psnrs.append(psnr)\n",
    "    nlm_ssims.append(ssim)\n",
    "    io.imsave('results_greyscale/nlm/'+img_names[i]+'.png', (nlm_imgs[-1]*255).astype(np.uint8))\n",
    "    \n",
    "print('Average PSNR non local means = '+str(np.mean(nlm_psnrs)))\n",
    "psnr_data['nlm'] = nlm_psnrs\n",
    "print('Average SSIM non local means = '+str(np.mean(nlm_ssims)))\n",
    "ssim_data['nlm'] = nlm_ssims"
   ]
  },
  {
   "cell_type": "code",
   "execution_count": null,
   "id": "e52935be-7569-4a84-9d69-d5529b96b1fa",
   "metadata": {},
   "outputs": [],
   "source": [
    "# Perform WNNM filtering\n",
    "wnnm_imgs = []\n",
    "wnnm_psnrs = []\n",
    "wnnm_ssims = []\n",
    "\n",
    "patchRadius = 3\n",
    "delta = 0.1\n",
    "c = 0.005\n",
    "K = 3\n",
    "sigma_n = 0.1\n",
    "N_threshold = 50\n",
    "for i in range(N_img):\n",
    "    filtered = wnnm(noisy_images[i].reshape((noisy_images[i].shape[0],noisy_images[i].shape[1],1)),patchRadius, delta, c, K,\n",
    "                            sigma_n,N_threshold).reshape((noisy_images[i].shape[0],noisy_images[i].shape[1]))\n",
    "    psnr = compute_psnr(clean_images[i],filtered)\n",
    "    ssim = compute_ssim(clean_images[i],filtered)\n",
    "    \n",
    "    wnnm_imgs.append(filtered)\n",
    "    wnnm_psnrs.append(psnr)\n",
    "    wnnm_ssims.append(ssim)\n",
    "    io.imsave('results_greyscale/wnnm/'+img_names[i]+'.png', (wnnm_imgs[-1]*255).astype(np.uint8))\n",
    "    \n",
    "print('Average PSNR WNNM = '+str(np.mean(wnnm_psnrs)))\n",
    "psnr_data['wnnm'] = wnnm_psnrs\n",
    "print('Average SSIM WNNM = '+str(np.mean(wnnm_ssims)))\n",
    "ssim_data['wnnm'] = wnnm_ssims"
   ]
  },
  {
   "cell_type": "code",
   "execution_count": null,
   "id": "fcb02318-33bd-4f4a-82f4-b5aec1a9c6e8",
   "metadata": {},
   "outputs": [],
   "source": [
    "# Store computed psnr and ssim values in excel spreadsheets\n",
    "psnr_data.to_excel('results_greyscale/psnrs.xlsx')\n",
    "ssim_data.to_excel('results_greyscale/ssims.xlsx')"
   ]
  },
  {
   "cell_type": "code",
   "execution_count": null,
   "id": "fb17e489-89e2-434d-bd7e-e4123f28cfab",
   "metadata": {},
   "outputs": [],
   "source": []
  }
 ],
 "metadata": {
  "kernelspec": {
   "display_name": "Python 3 (ipykernel)",
   "language": "python",
   "name": "python3"
  },
  "language_info": {
   "codemirror_mode": {
    "name": "ipython",
    "version": 3
   },
   "file_extension": ".py",
   "mimetype": "text/x-python",
   "name": "python",
   "nbconvert_exporter": "python",
   "pygments_lexer": "ipython3",
   "version": "3.9.10"
  }
 },
 "nbformat": 4,
 "nbformat_minor": 5
}
